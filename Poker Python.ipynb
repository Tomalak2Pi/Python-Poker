{
 "cells": [
  {
   "cell_type": "code",
   "execution_count": 1,
   "metadata": {},
   "outputs": [
    {
     "name": "stdout",
     "output_type": "stream",
     "text": [
      "You have:\n",
      "['Ace', 'Diamonds', 'Jack', 'Hearts']\n"
     ]
    }
   ],
   "source": [
    "hero_hole_cards = []\n",
    "\n",
    "hero_suit_one = \"Diamonds\"\n",
    "hero_card_one = \"Ace\"\n",
    "\n",
    "hero_suit_two = \"Hearts\"\n",
    "hero_card_two = \"Jack\"\n",
    "\n",
    "hero_hole_cards = [hero_card_one, hero_suit_one, hero_card_two, hero_suit_two]\n",
    "\n",
    "print(\"You have:\")\n",
    "print(hero_hole_cards)"
   ]
  }
 ],
 "metadata": {
  "kernelspec": {
   "display_name": "Python 3",
   "language": "python",
   "name": "python3"
  },
  "language_info": {
   "codemirror_mode": {
    "name": "ipython",
    "version": 3
   },
   "file_extension": ".py",
   "mimetype": "text/x-python",
   "name": "python",
   "nbconvert_exporter": "python",
   "pygments_lexer": "ipython3",
   "version": "3.10.10"
  },
  "orig_nbformat": 4
 },
 "nbformat": 4,
 "nbformat_minor": 2
}
